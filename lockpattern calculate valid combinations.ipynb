{
 "cells": [
  {
   "cell_type": "code",
   "execution_count": 157,
   "id": "551c2f17-bf7d-4e68-b670-0fcfcb4b134d",
   "metadata": {},
   "outputs": [],
   "source": [
    "import math\n",
    "\n",
    "\n",
    "n = 0\n",
    "def brude(field, position, direction=-1):\n",
    "    global n\n",
    "\n",
    "    # 0 => not visitable\n",
    "    # 1 => must be visited\n",
    "    # -1 => has been visited but can be visited again => straight line to another 1\n",
    "\n",
    "    if field[position] == 0:\n",
    "        return\n",
    "\n",
    "    field[position] = -1\n",
    "    # print(field)\n",
    "\n",
    "    field_size = int(math.sqrt(len(field)))\n",
    "    \n",
    "    left = 0 if position%field_size == 0 else field[position-1]  \n",
    "    upper = 0 if position-field_size < 0 else field[position-field_size]  \n",
    "    right = 0 if (position+1)%field_size == 0 else field[position+1]\n",
    "    under = 0 if position+field_size >= len(field) else field[position+field_size]\n",
    "\n",
    "    left_under = 0 if position%field_size == 0 or position+field_size >= len(field) else field[position+field_size-1]\n",
    "    left_upper = 0 if position%field_size == 0 or position-field_size < 0 else field[position-field_size-1]\n",
    "    right_upper = 0 if (position+1)%field_size == 0 or position-field_size < 0 else field[position-field_size+1]\n",
    "    right_under = 0 if (position+1)%field_size == 0 or position+field_size >= len(field) else field[position+field_size+1]\n",
    "\n",
    "    neighbors = [left_upper, upper, right_upper, left, right, left_under, under, right_under]\n",
    "    offset = [-field_size-1, -field_size, -field_size+1, -1, 1, field_size-1, field_size, field_size+1]\n",
    "\n",
    "    \n",
    "    if 1 not in neighbors:\n",
    "        if field.count(1) == 0:\n",
    "            n+=1\n",
    "            return \n",
    "\n",
    "    if direction >= 0:\n",
    "        if neighbors[direction] == 1:\n",
    "            brude(field.copy(), position + offset[direction]) \n",
    "    else:   \n",
    "        for i, neighbor in enumerate(neighbors):\n",
    "            if neighbor == 1:\n",
    "                brude(field.copy(), position + offset[i])    \n",
    "            elif neighbor == -1:\n",
    "                brude(field.copy(), position + offset[i], i) "
   ]
  },
  {
   "cell_type": "code",
   "execution_count": 159,
   "id": "48a00ebe-b834-4c9a-8535-fa726411bdd2",
   "metadata": {},
   "outputs": [
    {
     "name": "stdout",
     "output_type": "stream",
     "text": [
      "Valid combinations with this starting point...\n",
      "[20, 14, 12]\n",
      "[0, 12, 11]\n",
      "[0, 22, 0]\n"
     ]
    }
   ],
   "source": [
    "#field = [1, 0, 1, 1,\n",
    "#        1, 1, 1, 1,\n",
    "#         1, 0, 1, 0,\n",
    "#         1, 1, 1, 0]\n",
    "\n",
    "\n",
    "field = [1, 1, 1,\n",
    "         0, 1, 1,\n",
    "         0, 1, 0]\n",
    "\n",
    "ans = []\n",
    "field_size = int(math.sqrt(len(field)))\n",
    "for start in range(len(field)):\n",
    "    n = 0\n",
    "    brude(field.copy(), start)\n",
    "    ans.append(n)\n",
    "\n",
    "s=0\n",
    "e=field_size\n",
    "print(f\"Valid combinations with this starting point...\")\n",
    "for _ in range(field_size):\n",
    "    print(ans[s:e])\n",
    "    s=e\n",
    "    e+=field_size"
   ]
  },
  {
   "cell_type": "code",
   "execution_count": null,
   "id": "4b11908f-bfbc-4a35-972a-49aea2e6e567",
   "metadata": {},
   "outputs": [],
   "source": []
  }
 ],
 "metadata": {
  "kernelspec": {
   "display_name": "Python 3 (ipykernel)",
   "language": "python",
   "name": "python3"
  },
  "language_info": {
   "codemirror_mode": {
    "name": "ipython",
    "version": 3
   },
   "file_extension": ".py",
   "mimetype": "text/x-python",
   "name": "python",
   "nbconvert_exporter": "python",
   "pygments_lexer": "ipython3",
   "version": "3.12.4"
  }
 },
 "nbformat": 4,
 "nbformat_minor": 5
}
